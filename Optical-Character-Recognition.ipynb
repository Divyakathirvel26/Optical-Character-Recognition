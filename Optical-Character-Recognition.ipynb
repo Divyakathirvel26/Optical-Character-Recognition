{
 "cells": [
  {
   "cell_type": "markdown",
   "id": "cc3e9fcf",
   "metadata": {},
   "source": [
    "### Importing Libraries"
   ]
  },
  {
   "cell_type": "code",
   "execution_count": 1,
   "id": "3c0a34a7",
   "metadata": {},
   "outputs": [],
   "source": [
    "from PIL import Image\n",
    "import pytesseract\n",
    "import numpy as np"
   ]
  },
  {
   "cell_type": "markdown",
   "id": "47172804",
   "metadata": {},
   "source": [
    "### Loading the image and convert it to text"
   ]
  },
  {
   "cell_type": "code",
   "execution_count": 2,
   "id": "1df7311b",
   "metadata": {},
   "outputs": [],
   "source": [
    "filename = 'image_01.png'\n",
    "img1 = np.array(Image.open(filename))\n",
    "text = pytesseract.image_to_string(img1)"
   ]
  },
  {
   "cell_type": "code",
   "execution_count": 3,
   "id": "f9d37533",
   "metadata": {},
   "outputs": [
    {
     "name": "stdout",
     "output_type": "stream",
     "text": [
      "20 Wonderful Top 20\n",
      "Motivational Quotes.\n",
      "Number 16 is Absolutely\n",
      "Stunning.\n",
      "\f",
      "\n"
     ]
    }
   ],
   "source": [
    "print(text)"
   ]
  },
  {
   "cell_type": "markdown",
   "id": "80c195a0",
   "metadata": {},
   "source": [
    "### Loading the second image and convert it to text"
   ]
  },
  {
   "cell_type": "code",
   "execution_count": 6,
   "id": "bf482b1e",
   "metadata": {},
   "outputs": [],
   "source": [
    "filename = 'image_02.png'\n",
    "img1 = np.array(Image.open(filename))\n",
    "text = pytesseract.image_to_string(img1)"
   ]
  },
  {
   "cell_type": "code",
   "execution_count": 7,
   "id": "5aab1697",
   "metadata": {},
   "outputs": [
    {
     "name": "stdout",
     "output_type": "stream",
     "text": [
      "Testing Tesseract OCR\n",
      "\f",
      "\n"
     ]
    }
   ],
   "source": [
    "print(text)"
   ]
  }
 ],
 "metadata": {
  "kernelspec": {
   "display_name": "Python 3",
   "language": "python",
   "name": "python3"
  },
  "language_info": {
   "codemirror_mode": {
    "name": "ipython",
    "version": 3
   },
   "file_extension": ".py",
   "mimetype": "text/x-python",
   "name": "python",
   "nbconvert_exporter": "python",
   "pygments_lexer": "ipython3",
   "version": "3.8.5"
  }
 },
 "nbformat": 4,
 "nbformat_minor": 5
}
